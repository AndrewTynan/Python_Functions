{
 "cells": [
  {
   "cell_type": "code",
   "execution_count": 2,
   "id": "7c1de49e-0dc9-46c4-9655-6e6d152dd8d9",
   "metadata": {},
   "outputs": [],
   "source": [
    "import infixpy as fix\n",
    "import pandas as pd"
   ]
  },
  {
   "cell_type": "code",
   "execution_count": null,
   "id": "7a963be7-dd36-47dc-b22a-2ceff4f62661",
   "metadata": {},
   "outputs": [],
   "source": [
    "https://stackoverflow.com/questions/49001986/left-to-right-application-of-operations-on-a-list-in-python-3\n",
    "\n",
    "https://stackoverflow.com/questions/49001986/left-to-right-application-of-operations-on-a-list-in-python-3"
   ]
  },
  {
   "cell_type": "code",
   "execution_count": null,
   "id": "e9ba5d50-1057-43d9-8f02-9c552dcf8a80",
   "metadata": {},
   "outputs": [],
   "source": [
    "# need to explore pyxtension"
   ]
  },
  {
   "cell_type": "code",
   "execution_count": 3,
   "id": "c8c9a243-0441-4790-813e-0ecc554a0d41",
   "metadata": {},
   "outputs": [
    {
     "data": {
      "text/plain": [
       "'Result[0]=20  .. Result[1]=40  .. Result[2]=60  .. Result[3]=80'"
      ]
     },
     "execution_count": 3,
     "metadata": {},
     "output_type": "execute_result"
    }
   ],
   "source": [
    "from pyxtension.streams import stream\n",
    "\n",
    "a = stream(range(1, 50)) \\\n",
    "    .map(lambda _: _ * 4) \\\n",
    "    .filter(lambda _: _ <= 170) \\\n",
    "    .filter(lambda _: len(str(_)) == 2) \\\n",
    "    .filter(lambda _: _ % 20 == 0) \\\n",
    "    .enumerate() \\\n",
    "    .map(lambda n_x: f\"Result[{n_x[0]}]={n_x[1]}\") \\\n",
    "    .mkString(\"  .. \")\n",
    "\n",
    "a"
   ]
  },
  {
   "cell_type": "code",
   "execution_count": null,
   "id": "a26be277-95e1-4987-949b-da087cb4cb31",
   "metadata": {},
   "outputs": [],
   "source": []
  },
  {
   "cell_type": "code",
   "execution_count": null,
   "id": "7c358ae5-80fa-4573-9e48-cf36e53c8e97",
   "metadata": {},
   "outputs": [],
   "source": [
    "https://pypi.org/project/infixpy/\n",
    "https://stackoverflow.com/questions/18294534/is-there-a-foreach-function-in-python-3\n",
    "https://medium.com/@matthagy/introducing-scalaps-scala-inspired-data-structures-for-python-53f3afc8696\n",
    "https://github.com/matthagy/scalaps/blob/master/examples/seq_func.py\n",
    "https://github.com/matthagy/career_village_entities"
   ]
  },
  {
   "cell_type": "code",
   "execution_count": 3,
   "id": "120ca8fc-5ab4-453f-b2f4-31ec718b0ed2",
   "metadata": {},
   "outputs": [
    {
     "name": "stdout",
     "output_type": "stream",
     "text": [
      "['Any', 'Callable', 'CallableTypes', 'Counter', 'IDict', 'IFrozenList', 'IList', 'Iterable', 'IterableMixin', 'ListMixin', 'NoneType', 'Seq', 'StrMixin', 'Union', '__all__', '__builtins__', '__cached__', '__doc__', '__file__', '__loader__', '__name__', '__package__', '__path__', '__spec__', 'chain', 'copy', 'defaultdict', 'deque', 'get_callable', 'identity', 'np', 'operator', 'reduce']\n"
     ]
    }
   ],
   "source": [
    "print(dir(fix))"
   ]
  },
  {
   "cell_type": "code",
   "execution_count": 4,
   "id": "f6225d60-ebe6-4687-a739-ba9a05222d00",
   "metadata": {},
   "outputs": [
    {
     "data": {
      "text/plain": [
       "\"'Result[0]=20' .. 'Result[1]=40' .. 'Result[2]=60' .. 'Result[3]=80'\""
      ]
     },
     "execution_count": 4,
     "metadata": {},
     "output_type": "execute_result"
    }
   ],
   "source": [
    "(fix\n",
    ".Seq(range(1,51))\n",
    ".map(lambda x: x * 4)\n",
    ".filter(lambda x: x <= 170)\n",
    ".filter(lambda x: len(str(x)) == 2)\n",
    ".filter( lambda x: x % 20 == 0)\n",
    ".enumerate()\n",
    ".map(lambda x: 'Result[%d]=%s' %(x[0],x[1]))\n",
    ".mkstring(' .. ')\n",
    ")"
   ]
  },
  {
   "cell_type": "code",
   "execution_count": 5,
   "id": "bc8f7e6a-3ac2-4d3a-8c3e-0e417a3ca054",
   "metadata": {},
   "outputs": [
    {
     "name": "stdout",
     "output_type": "stream",
     "text": [
      "1\n",
      "0\n",
      "2\n"
     ]
    }
   ],
   "source": [
    "(fix\n",
    " .Seq(range(10))\n",
    " .map(lambda x: x+3)\n",
    " .filter(lambda x: x%2==0)\n",
    " .groupby(lambda x: x%3)\n",
    " .keys()\n",
    " .foreach(print))"
   ]
  },
  {
   "cell_type": "code",
   "execution_count": 14,
   "id": "48f615d6-85bf-4053-afec-28a1284283e2",
   "metadata": {},
   "outputs": [
    {
     "name": "stdout",
     "output_type": "stream",
     "text": [
      "1\n",
      "0\n"
     ]
    }
   ],
   "source": [
    "def taco(num):\n",
    "    (fix\n",
    "     .Seq(range(num))\n",
    "     .map(lambda x: x+3)\n",
    "     .filter(lambda x: x%2==0)\n",
    "     .groupby(lambda x: x%3)\n",
    "     .keys()\n",
    "     .foreach(print)\n",
    "    )\n",
    "\n",
    "taco(4)"
   ]
  },
  {
   "cell_type": "code",
   "execution_count": null,
   "id": "7a07d4a3-b5bf-405e-a611-cc4d9ccf5f37",
   "metadata": {},
   "outputs": [],
   "source": []
  },
  {
   "cell_type": "code",
   "execution_count": 116,
   "id": "29bf42ef-ee1b-48a4-ac7f-5e67e8b8890a",
   "metadata": {},
   "outputs": [
    {
     "data": {
      "text/plain": [
       "1       4\n",
       "2       8\n",
       "3      12\n",
       "4      16\n",
       "5      20\n",
       "6      24\n",
       "7      28\n",
       "8      32\n",
       "9      36\n",
       "10     40\n",
       "11     44\n",
       "12     48\n",
       "13     52\n",
       "14     56\n",
       "15     60\n",
       "16     64\n",
       "17     68\n",
       "18     72\n",
       "19     76\n",
       "20     80\n",
       "21     84\n",
       "22     88\n",
       "23     92\n",
       "24     96\n",
       "25    100\n",
       "26    104\n",
       "27    108\n",
       "28    112\n",
       "29    116\n",
       "30    120\n",
       "31    124\n",
       "32    128\n",
       "33    132\n",
       "34    136\n",
       "35    140\n",
       "36    144\n",
       "37    148\n",
       "38    152\n",
       "39    156\n",
       "40    160\n",
       "41    164\n",
       "42    168\n",
       "dtype: int64"
      ]
     },
     "execution_count": 116,
     "metadata": {},
     "output_type": "execute_result"
    }
   ],
   "source": [
    "# attempting the same changes using pandas series\n",
    "\n",
    "# convert list to series \n",
    "(pd.Index([x for x in range(1,51)])\n",
    ".to_series()\n",
    ".map(lambda x: x * 4)                              # or apply() \n",
    ".where(lambda x: x <= 170).dropna().astype('int') \n",
    "# .where(lambda x: len(x) == 2)\n",
    "     # .filter( lambda x: x % 20 == 0)\n",
    "     # .enumerate()\n",
    "     # # .map(lambda x: 'Result[%d]=%s' %(x[0],x[1]))\n",
    "     # .mkstring(' .. ')\n",
    ")    "
   ]
  },
  {
   "cell_type": "code",
   "execution_count": null,
   "id": "eba28de8-f2a7-4f1f-9888-c639de5ed483",
   "metadata": {},
   "outputs": [],
   "source": []
  },
  {
   "cell_type": "code",
   "execution_count": null,
   "id": "3f8538af-3a4d-4372-960b-e915f1324b43",
   "metadata": {},
   "outputs": [],
   "source": []
  }
 ],
 "metadata": {
  "kernelspec": {
   "display_name": "Python 3 (ipykernel)",
   "language": "python",
   "name": "python3"
  },
  "language_info": {
   "codemirror_mode": {
    "name": "ipython",
    "version": 3
   },
   "file_extension": ".py",
   "mimetype": "text/x-python",
   "name": "python",
   "nbconvert_exporter": "python",
   "pygments_lexer": "ipython3",
   "version": "3.9.6"
  }
 },
 "nbformat": 4,
 "nbformat_minor": 5
}
