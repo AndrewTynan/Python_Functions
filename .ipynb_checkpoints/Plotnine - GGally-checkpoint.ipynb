{
 "cells": [
  {
   "cell_type": "code",
   "execution_count": 9,
   "id": "5596e15d-d962-41c0-836f-b112cd996b8f",
   "metadata": {},
   "outputs": [],
   "source": [
    "import pandas as pd\n",
    "import numpy as np\n",
    "from plotnine import *\n",
    "from itertools import combinations\n",
    "# from patchworklib import wrap_plots\n",
    "from patchworklib import Brick\n"
   ]
  },
  {
   "cell_type": "markdown",
   "id": "ba2d0421-6882-4bb3-ab08-aa46e9ce9580",
   "metadata": {},
   "source": [
    "Note: made these functions with chatgpt. \n",
    "\n",
    "They are not working because it seems the AI has confused some of the R functions with what is available in tthe Python patchwork package\n",
    "\n",
    "It seems like the main issue is that the way R handles objects and strings allows the plots to more easily be arranged in the matrix.\n",
    "\n",
    "I wonder how the seaborn and pandas packages make their scatter plot matrixes?"
   ]
  },
  {
   "cell_type": "code",
   "execution_count": 6,
   "id": "73493291-4970-4646-8b81-6c035bedf7c5",
   "metadata": {},
   "outputs": [],
   "source": [
    "def ggpairs(data, size=1.5):\n",
    "    \"\"\"\n",
    "    Create a pair plot (scatterplot matrix) using plotnine.\n",
    "    Args:\n",
    "        data (pd.DataFrame): DataFrame containing numeric variables to plot.\n",
    "        size (float): Size multiplier for the plots.\n",
    "    Returns:\n",
    "        ggplot: A combined ggplot object showing pairwise relationships.\n",
    "    \"\"\"\n",
    "    # Filter numeric columns\n",
    "    numeric_cols = data.select_dtypes(include=[np.number]).columns\n",
    "    plots = []\n",
    "    n_cols = len(numeric_cols)\n",
    "\n",
    "    # Generate all combinations for lower triangular plots\n",
    "    for i, col_x in enumerate(numeric_cols):\n",
    "        for j, col_y in enumerate(numeric_cols):\n",
    "            if i == j:\n",
    "                # Diagonal: Histogram\n",
    "                plot = (\n",
    "                    ggplot(data, aes(x=col_x)) +\n",
    "                    geom_histogram(bins=20, fill=\"blue\", alpha=0.7) +\n",
    "                    theme_minimal() +\n",
    "                    labs(x=\"\", y=\"\") +\n",
    "                    theme(axis_text_x=element_blank(),\n",
    "                          axis_text_y=element_blank(),\n",
    "                          axis_ticks_major=element_blank())\n",
    "                )\n",
    "            elif i > j:\n",
    "                # Lower triangle: Scatterplot\n",
    "                plot = (\n",
    "                    ggplot(data, aes(x=col_x, y=col_y)) +\n",
    "                    geom_point(alpha=0.5, size=size) +\n",
    "                    theme_minimal() +\n",
    "                    labs(x=\"\", y=\"\") +\n",
    "                    theme(axis_text_x=element_blank(),\n",
    "                          axis_text_y=element_blank(),\n",
    "                          axis_ticks_major=element_blank())\n",
    "                )\n",
    "            else:\n",
    "                # Upper triangle: Blank plot\n",
    "                plot = ggplot() + theme_void()\n",
    "            plots.append(plot)\n",
    "\n",
    "    return plots\n",
    "\n",
    "\n",
    "def arrange_plots(plots, cols):\n",
    "    \"\"\"\n",
    "    Arrange plots into a matrix layout using patchworklib.\n",
    "    Args:\n",
    "        plots (list): A list of tuples (row, col, plot).\n",
    "        cols (list): List of column names.\n",
    "    Returns:\n",
    "        patchwork object: Arranged plots in a grid.\n",
    "    \"\"\"\n",
    "    # Create an empty layout grid\n",
    "    grid = np.full((len(cols), len(cols)), None)\n",
    "\n",
    "    # Populate grid with plots\n",
    "    for i, j, plot in plots:\n",
    "        grid[i, j] = plot\n",
    "\n",
    "    # Flatten the grid and wrap with patchwork\n",
    "    flat_plots = [p for row in grid for p in row if p is not None]\n",
    "    return wrap_plots(flat_plots, ncol=len(cols))\n",
    "    "
   ]
  },
  {
   "cell_type": "code",
   "execution_count": 10,
   "id": "0f5139a1-f869-4ee1-bc45-1f61cbeda2f7",
   "metadata": {},
   "outputs": [],
   "source": [
    "def ggpairs(data):\n",
    "    \"\"\"\n",
    "    Create a pair plot (scatterplot matrix) using plotnine and patchworklib.\n",
    "    Args:\n",
    "        data (pd.DataFrame): DataFrame containing numeric variables to plot.\n",
    "    Returns:\n",
    "        patchworklib.Bricks: A combined plot arranged in a matrix layout.\n",
    "    \"\"\"\n",
    "    numeric_cols = data.select_dtypes(include=[np.number]).columns\n",
    "    n = len(numeric_cols)\n",
    "    plot_matrix = []\n",
    "\n",
    "    for i in range(n):\n",
    "        row = []\n",
    "        for j in range(n):\n",
    "            x = numeric_cols[j]\n",
    "            y = numeric_cols[i]\n",
    "            if i == j:\n",
    "                # Diagonal: Histogram\n",
    "                p = (\n",
    "                    ggplot(data, aes(x=x)) +\n",
    "                    geom_histogram(bins=20, fill=\"blue\", alpha=0.7) +\n",
    "                    theme_minimal() +\n",
    "                    labs(x=\"\", y=\"\") +\n",
    "                    theme(\n",
    "                        axis_text_x=element_blank(),\n",
    "                        axis_text_y=element_blank(),\n",
    "                        axis_ticks_major=element_blank()\n",
    "                    )\n",
    "                )\n",
    "            else:\n",
    "                # Off-diagonal: Scatterplot\n",
    "                p = (\n",
    "                    ggplot(data, aes(x=x, y=y)) +\n",
    "                    geom_point(alpha=0.5) +\n",
    "                    theme_minimal() +\n",
    "                    labs(x=\"\", y=\"\") +\n",
    "                    theme(\n",
    "                        axis_text_x=element_blank(),\n",
    "                        axis_text_y=element_blank(),\n",
    "                        axis_ticks_major=element_blank()\n",
    "                    )\n",
    "                )\n",
    "            row.append(Brick(p))\n",
    "        plot_matrix.append(row)\n",
    "\n",
    "    # Combine plots using patchworklib\n",
    "    combined_plot = plot_matrix[0][0]\n",
    "    for i in range(n):\n",
    "        row_plot = plot_matrix[i][0]\n",
    "        for j in range(1, n):\n",
    "            row_plot |= plot_matrix[i][j]\n",
    "        if i == 0:\n",
    "            combined_plot = row_plot\n",
    "        else:\n",
    "            combined_plot /= row_plot\n",
    "\n",
    "    return combined_plot"
   ]
  },
  {
   "cell_type": "code",
   "execution_count": null,
   "id": "2dff62bb-3649-4cc4-a16c-7e0ca12a3708",
   "metadata": {},
   "outputs": [],
   "source": []
  },
  {
   "cell_type": "code",
   "execution_count": 11,
   "id": "570b377e-55ea-49de-ae10-602d46124dd1",
   "metadata": {},
   "outputs": [
    {
     "data": {
      "image/png": "[encoded data removed]",
      "text/plain": [
       "<Figure size 100x100 with 2 Axes>"
      ]
     },
     "metadata": {
      "image/png": {
       "height": 100,
       "width": 100
      }
     },
     "output_type": "display_data"
    },
    {
     "data": {
      "image/png": "[encoded data removed]",
      "text/plain": [
       "<Figure size 640x480 with 1 Axes>"
      ]
     },
     "metadata": {
      "image/png": {
       "height": 480,
       "width": 640
      }
     },
     "output_type": "display_data"
    },
    {
     "ename": "TypeError",
     "evalue": "can only concatenate str (not \"ggplot\") to str",
     "output_type": "error",
     "traceback": [
      "\u001b[0;31m---------------------------------------------------------------------------\u001b[0m",
      "\u001b[0;31mTypeError\u001b[0m                                 Traceback (most recent call last)",
      "Cell \u001b[0;32mIn[11], line 8\u001b[0m\n\u001b[1;32m      1\u001b[0m \u001b[38;5;66;03m# Example usage\u001b[39;00m\n\u001b[1;32m      2\u001b[0m data \u001b[38;5;241m=\u001b[39m pd\u001b[38;5;241m.\u001b[39mDataFrame({\n\u001b[1;32m      3\u001b[0m     \u001b[38;5;124m\"\u001b[39m\u001b[38;5;124mA\u001b[39m\u001b[38;5;124m\"\u001b[39m: np\u001b[38;5;241m.\u001b[39mrandom\u001b[38;5;241m.\u001b[39mrandn(\u001b[38;5;241m100\u001b[39m),\n\u001b[1;32m      4\u001b[0m     \u001b[38;5;124m\"\u001b[39m\u001b[38;5;124mB\u001b[39m\u001b[38;5;124m\"\u001b[39m: np\u001b[38;5;241m.\u001b[39mrandom\u001b[38;5;241m.\u001b[39mrandn(\u001b[38;5;241m100\u001b[39m) \u001b[38;5;241m*\u001b[39m \u001b[38;5;241m2\u001b[39m,\n\u001b[1;32m      5\u001b[0m     \u001b[38;5;124m\"\u001b[39m\u001b[38;5;124mC\u001b[39m\u001b[38;5;124m\"\u001b[39m: np\u001b[38;5;241m.\u001b[39mrandom\u001b[38;5;241m.\u001b[39mrandn(\u001b[38;5;241m100\u001b[39m) \u001b[38;5;241m*\u001b[39m \u001b[38;5;241m0.5\u001b[39m,\n\u001b[1;32m      6\u001b[0m })\n\u001b[0;32m----> 8\u001b[0m plots \u001b[38;5;241m=\u001b[39m \u001b[43mggpairs\u001b[49m\u001b[43m(\u001b[49m\u001b[43mdata\u001b[49m\u001b[43m)\u001b[49m\n\u001b[1;32m      9\u001b[0m \u001b[38;5;66;03m# Use patchwork or other tools to arrange them into a matrix layout.\u001b[39;00m\n\u001b[1;32m     10\u001b[0m plots\n",
      "Cell \u001b[0;32mIn[10], line 44\u001b[0m, in \u001b[0;36mggpairs\u001b[0;34m(data)\u001b[0m\n\u001b[1;32m     31\u001b[0m         \u001b[38;5;28;01melse\u001b[39;00m:\n\u001b[1;32m     32\u001b[0m             \u001b[38;5;66;03m# Off-diagonal: Scatterplot\u001b[39;00m\n\u001b[1;32m     33\u001b[0m             p \u001b[38;5;241m=\u001b[39m (\n\u001b[1;32m     34\u001b[0m                 ggplot(data, aes(x\u001b[38;5;241m=\u001b[39mx, y\u001b[38;5;241m=\u001b[39my)) \u001b[38;5;241m+\u001b[39m\n\u001b[1;32m     35\u001b[0m                 geom_point(alpha\u001b[38;5;241m=\u001b[39m\u001b[38;5;241m0.5\u001b[39m) \u001b[38;5;241m+\u001b[39m\n\u001b[0;32m   (...)\u001b[0m\n\u001b[1;32m     42\u001b[0m                 )\n\u001b[1;32m     43\u001b[0m             )\n\u001b[0;32m---> 44\u001b[0m         row\u001b[38;5;241m.\u001b[39mappend(\u001b[43mBrick\u001b[49m\u001b[43m(\u001b[49m\u001b[43mp\u001b[49m\u001b[43m)\u001b[49m)\n\u001b[1;32m     45\u001b[0m     plot_matrix\u001b[38;5;241m.\u001b[39mappend(row)\n\u001b[1;32m     47\u001b[0m \u001b[38;5;66;03m# Combine plots using patchworklib\u001b[39;00m\n",
      "File \u001b[0;32m~/Library/Python/3.9/lib/python/site-packages/patchworklib/patchworklib.py:3307\u001b[0m, in \u001b[0;36mBrick.__init__\u001b[0;34m(self, label, figsize, ax)\u001b[0m\n\u001b[1;32m   3305\u001b[0m \u001b[38;5;28mself\u001b[39m\u001b[38;5;241m.\u001b[39m_middle_flag \u001b[38;5;241m=\u001b[39m \u001b[38;5;28;01mFalse\u001b[39;00m\n\u001b[1;32m   3306\u001b[0m \u001b[38;5;28mself\u001b[39m\u001b[38;5;241m.\u001b[39m_outer_flag  \u001b[38;5;241m=\u001b[39m \u001b[38;5;28;01mFalse\u001b[39;00m\n\u001b[0;32m-> 3307\u001b[0m \u001b[38;5;28mself\u001b[39m\u001b[38;5;241m.\u001b[39m_case \u001b[38;5;241m=\u001b[39m _basefigure\u001b[38;5;241m.\u001b[39madd_axes([\u001b[38;5;241m0\u001b[39m,\u001b[38;5;241m0\u001b[39m,\u001b[38;5;241m1\u001b[39m,\u001b[38;5;241m1\u001b[39m], label\u001b[38;5;241m=\u001b[39m\u001b[38;5;124;43m\"\u001b[39;49m\u001b[38;5;124;43mcase:\u001b[39;49m\u001b[38;5;124;43m\"\u001b[39;49m\u001b[43m \u001b[49m\u001b[38;5;241;43m+\u001b[39;49m\u001b[43m \u001b[49m\u001b[38;5;28;43mself\u001b[39;49m\u001b[38;5;241;43m.\u001b[39;49m\u001b[43m_label\u001b[49m)\n\u001b[1;32m   3308\u001b[0m x0, x1, y0, y1 \u001b[38;5;241m=\u001b[39m \u001b[38;5;28mself\u001b[39m\u001b[38;5;241m.\u001b[39mget_middle_corner() \n\u001b[1;32m   3309\u001b[0m \u001b[38;5;28mself\u001b[39m\u001b[38;5;241m.\u001b[39m_case\u001b[38;5;241m.\u001b[39mset_position([x0, y0, x1\u001b[38;5;241m-\u001b[39mx0, y1\u001b[38;5;241m-\u001b[39my0])\n",
      "\u001b[0;31mTypeError\u001b[0m: can only concatenate str (not \"ggplot\") to str"
     ]
    }
   ],
   "source": [
    "# Example usage\n",
    "data = pd.DataFrame({\n",
    "    \"A\": np.random.randn(100),\n",
    "    \"B\": np.random.randn(100) * 2,\n",
    "    \"C\": np.random.randn(100) * 0.5,\n",
    "})\n",
    "\n",
    "plots = ggpairs(data)\n",
    "# Use patchwork or other tools to arrange them into a matrix layout.\n",
    "plots"
   ]
  },
  {
   "cell_type": "code",
   "execution_count": null,
   "id": "c6737d76-bfac-476f-9e19-b1b2fcab43e6",
   "metadata": {},
   "outputs": [],
   "source": []
  }
 ],
 "metadata": {
  "kernelspec": {
   "display_name": "Python 3 (ipykernel)",
   "language": "python",
   "name": "python3"
  },
  "language_info": {
   "codemirror_mode": {
    "name": "ipython",
    "version": 3
   },
   "file_extension": ".py",
   "mimetype": "text/x-python",
   "name": "python",
   "nbconvert_exporter": "python",
   "pygments_lexer": "ipython3",
   "version": "3.9.6"
  }
 },
 "nbformat": 4,
 "nbformat_minor": 5
}
