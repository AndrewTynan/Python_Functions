{
 "cells": [
  {
   "cell_type": "code",
   "execution_count": 1,
   "id": "222a9c19",
   "metadata": {},
   "outputs": [
    {
     "data": {
      "text/plain": [
       "[[1, 1], [2, 2], [3, 2], [3, 4], [5, 6]]"
      ]
     },
     "execution_count": 1,
     "metadata": {},
     "output_type": "execute_result"
    }
   ],
   "source": [
    "def chunk(list, size):\n",
    "    return [list[i:i+size] for i in range(0,len(list), size)]\n",
    "\n",
    "x = [1,1,2,2,3,2,3,4,5,6]\n",
    "\n",
    "chunk(x,2)"
   ]
  },
  {
   "cell_type": "code",
   "execution_count": 2,
   "id": "50279848",
   "metadata": {},
   "outputs": [
    {
     "data": {
      "text/plain": [
       "0.5"
      ]
     },
     "execution_count": 2,
     "metadata": {},
     "output_type": "execute_result"
    }
   ],
   "source": [
    "1/2"
   ]
  },
  {
   "cell_type": "code",
   "execution_count": 4,
   "id": "6b4193c2",
   "metadata": {},
   "outputs": [
    {
     "ename": "SyntaxError",
     "evalue": "invalid syntax (<ipython-input-4-9d3d0db90472>, line 6)",
     "output_type": "error",
     "traceback": [
      "\u001b[0;36m  File \u001b[0;32m\"<ipython-input-4-9d3d0db90472>\"\u001b[0;36m, line \u001b[0;32m6\u001b[0m\n\u001b[0;31m    else (n / 2 == 0) AND (2 <= n <= 5):\u001b[0m\n\u001b[0m         ^\u001b[0m\n\u001b[0;31mSyntaxError\u001b[0m\u001b[0;31m:\u001b[0m invalid syntax\n"
     ]
    }
   ],
   "source": [
    "n = 3 \n",
    "\n",
    "if n / 2 != 0:\n",
    "    print('Weird')\n",
    "else (n / 2 == 0) AND (2 <= n <= 5):\n",
    "    print('Not Weird')\n",
    "else (n / 2 == 0) AND (6 <= n <= 20):\n",
    "    print('Weird')    \n",
    "else (n / 2 == 0) AND (n >   20):\n",
    "    print('Not Weird')  "
   ]
  },
  {
   "cell_type": "code",
   "execution_count": 17,
   "id": "18ae7aa3",
   "metadata": {},
   "outputs": [
    {
     "name": "stdout",
     "output_type": "stream",
     "text": [
      "Not Weird\n"
     ]
    }
   ],
   "source": [
    "n = 24\n",
    "\n",
    "if n % 2 != 0:\n",
    "    print('Weird')\n",
    "elif 2 <= n <= 5:\n",
    "    print('Not Weird')\n",
    "elif 6 <= n <= 20:\n",
    "    print('Weird')    \n",
    "elif n > 20:\n",
    "    print('Not Weird')    "
   ]
  },
  {
   "cell_type": "code",
   "execution_count": 62,
   "id": "5088801f",
   "metadata": {},
   "outputs": [
    {
     "name": "stdout",
     "output_type": "stream",
     "text": [
      "5\n"
     ]
    }
   ],
   "source": [
    "lst = [7,\n",
    "        'UK',\n",
    "        'China',\n",
    "        'USA',\n",
    "        'France',\n",
    "        'New Zealand',\n",
    "        'UK',\n",
    "        'France']\n",
    "\n",
    "stamps = lst[1:]\n",
    "\n",
    "print(len(set(stamps)))\n"
   ]
  },
  {
   "cell_type": "code",
   "execution_count": 60,
   "id": "93039536",
   "metadata": {},
   "outputs": [
    {
     "data": {
      "text/plain": [
       "[1, 2, 3, 4, 5, 6]"
      ]
     },
     "execution_count": 60,
     "metadata": {},
     "output_type": "execute_result"
    }
   ],
   "source": [
    "n = 7\n",
    "stamps = [i for i in range(1,n)]\n",
    "stamps"
   ]
  },
  {
   "cell_type": "code",
   "execution_count": null,
   "id": "7e95698d",
   "metadata": {},
   "outputs": [],
   "source": []
  },
  {
   "cell_type": "code",
   "execution_count": null,
   "id": "59535abf",
   "metadata": {},
   "outputs": [],
   "source": []
  },
  {
   "cell_type": "code",
   "execution_count": null,
   "id": "c31370de",
   "metadata": {},
   "outputs": [],
   "source": []
  }
 ],
 "metadata": {
  "kernelspec": {
   "display_name": "Python 3",
   "language": "python",
   "name": "python3"
  },
  "language_info": {
   "codemirror_mode": {
    "name": "ipython",
    "version": 3
   },
   "file_extension": ".py",
   "mimetype": "text/x-python",
   "name": "python",
   "nbconvert_exporter": "python",
   "pygments_lexer": "ipython3",
   "version": "3.7.3"
  }
 },
 "nbformat": 4,
 "nbformat_minor": 5
}
