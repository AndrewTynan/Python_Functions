{
 "cells": [
  {
   "cell_type": "markdown",
   "id": "48e710a4-38d7-400d-a1f5-adfb7fb83bb4",
   "metadata": {},
   "source": [
    "# List Comprehension"
   ]
  },
  {
   "cell_type": "raw",
   "id": "a1d4f8e4-b6a7-4324-8bbf-0192d019016c",
   "metadata": {},
   "source": [
    "https://www.programiz.com/python-programming/dictionary-comprehension\n",
    "https://sites.pitt.edu/~naraehan/python3/list_comprehension.html"
   ]
  },
  {
   "cell_type": "raw",
   "id": "799fa6e3-5200-4113-bce9-b938f86a3285",
   "metadata": {},
   "source": [
    "[expression for item in iterable if condition == True]"
   ]
  },
  {
   "cell_type": "code",
   "execution_count": 73,
   "id": "eeb6a3fb-1825-4717-af79-c54726e3675c",
   "metadata": {},
   "outputs": [
    {
     "data": {
      "text/plain": [
       "[0, 1, 2, 3, 4, 5, 6, 7, 8, 9]"
      ]
     },
     "execution_count": 73,
     "metadata": {},
     "output_type": "execute_result"
    }
   ],
   "source": [
    "[x for x in range(10)]"
   ]
  },
  {
   "cell_type": "markdown",
   "id": "3afb0690-b9ff-433e-a68a-06059a81761c",
   "metadata": {},
   "source": [
    "#### Modifying a list"
   ]
  },
  {
   "cell_type": "code",
   "execution_count": 136,
   "id": "12b54fdd-1a8e-4754-ac05-74dc038915c4",
   "metadata": {},
   "outputs": [
    {
     "data": {
      "text/plain": [
       "[0, 1, 1, 1, 2, 2, 2, 3, 3, 3]"
      ]
     },
     "execution_count": 136,
     "metadata": {},
     "output_type": "execute_result"
    }
   ],
   "source": [
    "numbers = [1, 2, 3, 4, 5, 6, 7, 8, 9, 10]\n",
    "\n",
    "[round(number/3) for number in numbers]"
   ]
  },
  {
   "cell_type": "markdown",
   "id": "adf5a104-f2f7-4a7d-938b-4f6d75f86b58",
   "metadata": {},
   "source": [
    "#### For Loop Comparison"
   ]
  },
  {
   "cell_type": "code",
   "execution_count": 137,
   "id": "dee3bb4e-0846-4a2c-b289-b151364a0382",
   "metadata": {},
   "outputs": [
    {
     "data": {
      "text/plain": [
       "[0, 1, 1, 1, 2, 2, 2, 3, 3, 3]"
      ]
     },
     "execution_count": 137,
     "metadata": {},
     "output_type": "execute_result"
    }
   ],
   "source": [
    "square_numbers = []\n",
    "for num in numbers:\n",
    "    square_numbers.append(round(num/3))\n",
    "    \n",
    "square_numbers"
   ]
  },
  {
   "cell_type": "markdown",
   "id": "7746640a-c9e7-40c2-8987-3fdd33cbf757",
   "metadata": {},
   "source": [
    "#### More list Modifications"
   ]
  },
  {
   "cell_type": "code",
   "execution_count": 138,
   "id": "b21e34d3-95fc-4263-b396-6df651eb5f16",
   "metadata": {},
   "outputs": [
    {
     "name": "stdout",
     "output_type": "stream",
     "text": [
      "['cAr', 'house', 'plAnt', 'fishermAn', 'picnic', 'rodeo']\n",
      "\n",
      "['Car', 'House', 'Plant', 'Fisherman', 'Picnic', 'Rodeo']\n"
     ]
    }
   ],
   "source": [
    "words = ['car', 'house', 'plant', 'fisherman', 'picnic', 'rodeo']\n",
    "\n",
    "print([x.replace('a', 'A') for x in words])\n",
    "print('')\n",
    "\n",
    "print([x.capitalize() for x in words])"
   ]
  },
  {
   "cell_type": "markdown",
   "id": "012ba83f-0867-4dcf-a60b-aebfd3bc090a",
   "metadata": {},
   "source": [
    "#### Filtering a list"
   ]
  },
  {
   "cell_type": "markdown",
   "id": "824cb5d5-033f-4f0e-ad78-b9b3bfa0ca65",
   "metadata": {},
   "source": [
    "#### Using if"
   ]
  },
  {
   "cell_type": "code",
   "execution_count": 120,
   "id": "912c724e-a33b-411f-bb1d-e5603b36d985",
   "metadata": {},
   "outputs": [
    {
     "data": {
      "text/plain": [
       "[2, 4, 6, 8, 10]"
      ]
     },
     "execution_count": 120,
     "metadata": {},
     "output_type": "execute_result"
    }
   ],
   "source": [
    "[x for x in numbers if x % 2 == 0]"
   ]
  },
  {
   "cell_type": "code",
   "execution_count": null,
   "id": "cf368cab-ff9c-499f-8dac-7d9e2234febd",
   "metadata": {},
   "outputs": [],
   "source": [
    "# with an OR condition \n",
    "[x for x in numbers if x % 2 == 0 or x % 3 == 0]"
   ]
  },
  {
   "cell_type": "markdown",
   "id": "c4069cb7-5354-46bf-9109-d0764fb86b1b",
   "metadata": {},
   "source": [
    "#### Using if-else"
   ]
  },
  {
   "cell_type": "raw",
   "id": "7d714a81-9c7d-4efc-a2ed-7a6d09cee569",
   "metadata": {},
   "source": [
    "[expression if condition else expression for item in iterable]"
   ]
  },
  {
   "cell_type": "code",
   "execution_count": 75,
   "id": "bd5b630b-ee52-44ca-a8fb-45d9d67cf15e",
   "metadata": {},
   "outputs": [
    {
     "data": {
      "text/plain": [
       "[99, 2, 99, 4, 99, 6, 99, 8, 99, 10]"
      ]
     },
     "execution_count": 75,
     "metadata": {},
     "output_type": "execute_result"
    }
   ],
   "source": [
    "[x if x % 2 == 0 else 99 for x in numbers]"
   ]
  },
  {
   "cell_type": "code",
   "execution_count": 77,
   "id": "9413c0cc-78eb-40a5-83e0-dea8de780fef",
   "metadata": {},
   "outputs": [
    {
     "data": {
      "text/plain": [
       "['poop', '2', 'poop', '4', 'poop', '6', 'poop', '8', 'poop', '10']"
      ]
     },
     "execution_count": 77,
     "metadata": {},
     "output_type": "execute_result"
    }
   ],
   "source": [
    "[str(x) if x % 2 == 0 else 'poop' for x in numbers]"
   ]
  },
  {
   "cell_type": "markdown",
   "id": "c6982e64-7032-47da-8119-40a45812899e",
   "metadata": {},
   "source": [
    "#### Multiple if-else"
   ]
  },
  {
   "cell_type": "code",
   "execution_count": 113,
   "id": "758217a3-0e4f-416d-a469-b8da9c510600",
   "metadata": {},
   "outputs": [
    {
     "data": {
      "text/plain": [
       "[1, 'Even', 'Odd', 'Even', 5, 'Even', 7, 'Even', 'Odd', 'Even']"
      ]
     },
     "execution_count": 113,
     "metadata": {},
     "output_type": "execute_result"
    }
   ],
   "source": [
    "# it's easier to read over multiple lines\n",
    "[\"Even\" if num % 2 == 0 else \n",
    " \"Odd\"  if num % 3 == 0 else num \n",
    "for num in numbers]"
   ]
  },
  {
   "cell_type": "code",
   "execution_count": 114,
   "id": "173aea83-4381-4dfe-8035-febfdae3c0ca",
   "metadata": {},
   "outputs": [
    {
     "data": {
      "text/plain": [
       "[('low', 1),\n",
       " ('low', 2),\n",
       " ('low', 3),\n",
       " ('mid', 4),\n",
       " ('mid', 5),\n",
       " ('mid', 6),\n",
       " ('mid', 7),\n",
       " ('high', 8),\n",
       " ('high', 9),\n",
       " ('high', 10)]"
      ]
     },
     "execution_count": 114,
     "metadata": {},
     "output_type": "execute_result"
    }
   ],
   "source": [
    "level = ['low' if num <=3 else \n",
    "         'mid' if num <=7 else 'high' \n",
    "         for num in numbers]\n",
    "\n",
    "list(zip(level,numbers))"
   ]
  },
  {
   "cell_type": "markdown",
   "id": "2d710578-0712-4ca6-b533-cf8d13d830c0",
   "metadata": {},
   "source": [
    "#### Nested List Comprehensions"
   ]
  },
  {
   "cell_type": "raw",
   "id": "28f818a4-b04e-4d56-9673-7578903a65f6",
   "metadata": {},
   "source": [
    "[[expression for item in iterable] for inner_iterable in outer_iterable]"
   ]
  },
  {
   "cell_type": "code",
   "execution_count": 121,
   "id": "27bc8f8a-97f5-4fee-bda3-4a8ec24bd5cf",
   "metadata": {},
   "outputs": [
    {
     "data": {
      "text/plain": [
       "['cr', 'hs', 'plnt', 'fshrmn', 'pcnc', 'rd']"
      ]
     },
     "execution_count": 121,
     "metadata": {},
     "output_type": "execute_result"
    }
   ],
   "source": [
    "words = ['car', 'house', 'plant', 'fisherman', 'picnic', 'rodeo']\n",
    "vowels = ['a', 'e', 'i', 'o', 'u']\n",
    "\n",
    "[''.join([letter for letter in word if letter not in vowels]) for word in words]"
   ]
  },
  {
   "cell_type": "code",
   "execution_count": 125,
   "id": "ac5901cb-0baa-43ec-aae3-8e554d036cba",
   "metadata": {},
   "outputs": [
    {
     "data": {
      "text/plain": [
       "['cr', 'hs', 'plnt', 'fshrmn', 'pcnc', 'rd']"
      ]
     },
     "execution_count": 125,
     "metadata": {},
     "output_type": "execute_result"
    }
   ],
   "source": [
    "# NOTE: the list comprehension above does the same thing as this for loop\n",
    "\n",
    "new_words = []\n",
    "for word in words:\n",
    "    vowels = ['a', 'e', 'i', 'o', 'u']\n",
    "    for letter in word:\n",
    "        if letter in vowels:\n",
    "            word = word.replace(letter, '')\n",
    "    new_words.append(word)\n",
    "\n",
    "new_words"
   ]
  },
  {
   "cell_type": "markdown",
   "id": "ff5d96dd-a6d1-47bc-93cb-5cf2a08ee276",
   "metadata": {},
   "source": [
    "#### using a dict"
   ]
  },
  {
   "cell_type": "code",
   "execution_count": 115,
   "id": "a686535c-beac-4c2d-9d95-172783fdeb30",
   "metadata": {},
   "outputs": [
    {
     "data": {
      "text/plain": [
       "['yes', 'no', 'idle', 'idle', 'idle', 'idle', 'idle', 'idle', 'idle', 'idle']"
      ]
     },
     "execution_count": 115,
     "metadata": {},
     "output_type": "execute_result"
    }
   ],
   "source": [
    "d = {1: 'yes', 2: 'no'}\n",
    "[d.get(x, 'idle') for x in numbers]"
   ]
  },
  {
   "cell_type": "markdown",
   "id": "10de6995-07ff-4f3b-af92-761671d77e4a",
   "metadata": {},
   "source": [
    "## dict comprehensions"
   ]
  },
  {
   "cell_type": "raw",
   "id": "216776a2-a607-468b-bbed-708d1b932375",
   "metadata": {},
   "source": [
    "dictionary = {key: value for vars in iterable}"
   ]
  },
  {
   "cell_type": "markdown",
   "id": "991da6e6-9b8a-438e-9c73-eb42edc13b3e",
   "metadata": {},
   "source": [
    "#### make dict from list"
   ]
  },
  {
   "cell_type": "code",
   "execution_count": 148,
   "id": "d91b6964-052b-458b-a626-ecef6d3bb5a7",
   "metadata": {},
   "outputs": [
    {
     "data": {
      "text/plain": [
       "{1: 1, 2: 8, 3: 27, 4: 64, 5: 125, 6: 216, 7: 343, 8: 512, 9: 729, 10: 1000}"
      ]
     },
     "execution_count": 148,
     "metadata": {},
     "output_type": "execute_result"
    }
   ],
   "source": [
    "{num: num**3 for num in range(1, 11)}"
   ]
  },
  {
   "cell_type": "code",
   "execution_count": 153,
   "id": "ccf0a9e6-a742-4d12-b3a3-6fff8afd8f68",
   "metadata": {},
   "outputs": [
    {
     "data": {
      "text/plain": [
       "{0: 'one', 1: 'two', 2: 'three'}"
      ]
     },
     "execution_count": 153,
     "metadata": {},
     "output_type": "execute_result"
    }
   ],
   "source": [
    "numbers = list(range(3))\n",
    "words   = ['one', 'two', 'three']\n",
    "\n",
    "{num: words[num] for num in numbers}"
   ]
  },
  {
   "cell_type": "code",
   "execution_count": 159,
   "id": "8445cf6a-5bb8-4505-809d-1bfc1b21a58b",
   "metadata": {},
   "outputs": [
    {
     "name": "stdout",
     "output_type": "stream",
     "text": [
      "{'a': 1, 'b': 2, 'c': 3, 'd': 4, 'e': 5}\n"
     ]
    },
    {
     "data": {
      "text/plain": [
       "{'a': 1, 'b': 2, 'c': 3, 'd': 4, 'e': 5}"
      ]
     },
     "execution_count": 159,
     "metadata": {},
     "output_type": "execute_result"
    }
   ],
   "source": [
    "# Lists to represent keys and values\n",
    "keys = ['a','b','c','d','e']\n",
    "values = [1,2,3,4,5]  \n",
    "\n",
    "# but this line shows dict comprehension here  \n",
    "print( { k:v for (k,v) in zip(keys, values)}  )\n",
    "\n",
    "dict(zip(keys, values))  # We can use below too"
   ]
  },
  {
   "cell_type": "markdown",
   "id": "f6bcae5d-2740-44f8-ad9e-4a3f775494a7",
   "metadata": {},
   "source": [
    "#### updating a dict"
   ]
  },
  {
   "cell_type": "code",
   "execution_count": 155,
   "id": "08aeb1a1-b9b0-4473-b58c-3e0451398808",
   "metadata": {},
   "outputs": [
    {
     "data": {
      "text/plain": [
       "{'milk': 0.7752, 'coffee': 1.9, 'bread': 1.9}"
      ]
     },
     "execution_count": 155,
     "metadata": {},
     "output_type": "execute_result"
    }
   ],
   "source": [
    "#item price in dollars\n",
    "old_price = {'milk': 1.02, 'coffee': 2.5, 'bread': 2.5}\n",
    "\n",
    "dollar_to_pound = 0.76\n",
    "\n",
    "{item: value*dollar_to_pound for (item, value) in old_price.items()}"
   ]
  },
  {
   "cell_type": "code",
   "execution_count": 161,
   "id": "4990dc73-0e9b-478a-bc5e-d5b3a1e8ea6e",
   "metadata": {},
   "outputs": [
    {
     "data": {
      "text/plain": [
       "{'jack': 38, 'michael': 48}"
      ]
     },
     "execution_count": 161,
     "metadata": {},
     "output_type": "execute_result"
    }
   ],
   "source": [
    "original_dict = {'jack': 38, 'michael': 48, 'guido': 57, 'john': 33}\n",
    "\n",
    "{k: v for (k, v) in original_dict.items() if v % 2 == 0}"
   ]
  },
  {
   "cell_type": "markdown",
   "id": "5b650da7-e819-4818-a76f-354353e3440e",
   "metadata": {},
   "source": [
    "#### Multiple if-else filtering"
   ]
  },
  {
   "cell_type": "code",
   "execution_count": 163,
   "id": "f88656c8-82da-474e-a454-44ed934658ad",
   "metadata": {},
   "outputs": [
    {
     "data": {
      "text/plain": [
       "{'john': 33}"
      ]
     },
     "execution_count": 163,
     "metadata": {},
     "output_type": "execute_result"
    }
   ],
   "source": [
    "original_dict = {'jack': 38, 'michael': 48, 'guido': 57, 'john': 33}\n",
    "\n",
    "{k: v for (k, v) in original_dict.items() if v % 2 != 0 if v < 40}"
   ]
  },
  {
   "cell_type": "markdown",
   "id": "887ac47c-ac5f-4e15-b87a-7945cd02ee0c",
   "metadata": {},
   "source": [
    "#### if-else updating values"
   ]
  },
  {
   "cell_type": "code",
   "execution_count": 164,
   "id": "1a075361-c9d5-42bb-9330-a0af20df7ec6",
   "metadata": {},
   "outputs": [
    {
     "data": {
      "text/plain": [
       "{'jack': 'young', 'michael': 'old', 'guido': 'old', 'john': 'young'}"
      ]
     },
     "execution_count": 164,
     "metadata": {},
     "output_type": "execute_result"
    }
   ],
   "source": [
    "original_dict = {'jack': 38, 'michael': 48, 'guido': 57, 'john': 33}\n",
    "\n",
    "{k: ('old' if v > 40 else 'young')\n",
    "    for (k, v) in original_dict.items()}"
   ]
  },
  {
   "cell_type": "markdown",
   "id": "033b7541-00ee-42b5-871f-1ca997d1860e",
   "metadata": {},
   "source": [
    "#### Nested Dictionary with Two Dictionary Comprehensions"
   ]
  },
  {
   "cell_type": "code",
   "execution_count": 165,
   "id": "8878b7a3-f76c-4766-a3e4-e2aef445048f",
   "metadata": {},
   "outputs": [
    {
     "data": {
      "text/plain": [
       "{2: {1: 2, 2: 4, 3: 6, 4: 8, 5: 10},\n",
       " 3: {1: 3, 2: 6, 3: 9, 4: 12, 5: 15},\n",
       " 4: {1: 4, 2: 8, 3: 12, 4: 16, 5: 20}}"
      ]
     },
     "execution_count": 165,
     "metadata": {},
     "output_type": "execute_result"
    }
   ],
   "source": [
    "{k1: {k2: k1 * k2 for k2 in range(1, 6)} for k1 in range(2, 5)}"
   ]
  },
  {
   "cell_type": "markdown",
   "id": "2c68ad97-61e4-4b97-9294-ead256c8c419",
   "metadata": {},
   "source": [
    "# Lambdas"
   ]
  },
  {
   "cell_type": "markdown",
   "id": "5e37ef13-0a41-42e7-bc72-0c932c33fc72",
   "metadata": {},
   "source": [
    "#### Iterating With Python Lambdas "
   ]
  },
  {
   "cell_type": "code",
   "execution_count": 60,
   "id": "334b648b-5ce8-48e0-8679-b926e11b1d5c",
   "metadata": {},
   "outputs": [
    {
     "data": {
      "text/plain": [
       "[16, 4, 169, 441, 25]"
      ]
     },
     "execution_count": 60,
     "metadata": {},
     "output_type": "execute_result"
    }
   ],
   "source": [
    "# list of numbers \n",
    "nums = [4, 2, 13, 21, 5] \n",
    "\n",
    "# square of all numbers\n",
    "list(map(lambda v: v ** 2, nums))"
   ]
  },
  {
   "cell_type": "code",
   "execution_count": 55,
   "id": "ac3d5a0a-d680-4b52-8252-f7be57bd4820",
   "metadata": {},
   "outputs": [
    {
     "data": {
      "text/plain": [
       "[169, 441, 25]"
      ]
     },
     "execution_count": 55,
     "metadata": {},
     "output_type": "execute_result"
    }
   ],
   "source": [
    "# list of square of odd numbers \n",
    "# lambda function is used to iterate over list nums \n",
    "# filter is used to find odd numbers \n",
    "list(map(lambda v: v ** 2, filter(lambda u: u % 2, nums))) "
   ]
  },
  {
   "cell_type": "code",
   "execution_count": 173,
   "id": "7f68435a-560d-4e0e-9b27-cada49d6b36e",
   "metadata": {},
   "outputs": [
    {
     "data": {
      "text/plain": [
       "[0, 3, 6]"
      ]
     },
     "execution_count": 173,
     "metadata": {},
     "output_type": "execute_result"
    }
   ],
   "source": [
    "l = lambda x: [x * 3 for x in x]\n",
    "l(list(range(3))) "
   ]
  },
  {
   "cell_type": "code",
   "execution_count": 174,
   "id": "d7825395-79f3-4de5-8ebd-7ad5ef718f76",
   "metadata": {},
   "outputs": [
    {
     "data": {
      "text/plain": [
       "[16, 4, 169, 441, 25]"
      ]
     },
     "execution_count": 174,
     "metadata": {},
     "output_type": "execute_result"
    }
   ],
   "source": [
    "yarr = lambda x: list(map(lambda x: x ** 2, x))\n",
    "yarr(nums)"
   ]
  },
  {
   "cell_type": "code",
   "execution_count": 170,
   "id": "31b0ec2f-9ed1-4a1a-8c9d-24f335285fe9",
   "metadata": {},
   "outputs": [
    {
     "data": {
      "text/plain": [
       "[12, 6, 39, 63, 15]"
      ]
     },
     "execution_count": 170,
     "metadata": {},
     "output_type": "execute_result"
    }
   ],
   "source": [
    "# bit of an odd way to do it, since it does not allow an object to be passed\n",
    "# meaning that nums is hard coded \n",
    "l = lambda : [x * 3 for x in nums]\n",
    "l()"
   ]
  },
  {
   "cell_type": "code",
   "execution_count": null,
   "id": "45d16cb9-702d-42d3-b649-1c0b9b42a068",
   "metadata": {},
   "outputs": [],
   "source": []
  },
  {
   "cell_type": "code",
   "execution_count": null,
   "id": "17bf2d37-d12e-451e-83c5-0ee923e18210",
   "metadata": {},
   "outputs": [],
   "source": []
  }
 ],
 "metadata": {
  "kernelspec": {
   "display_name": "Python 3 (ipykernel)",
   "language": "python",
   "name": "python3"
  },
  "language_info": {
   "codemirror_mode": {
    "name": "ipython",
    "version": 3
   },
   "file_extension": ".py",
   "mimetype": "text/x-python",
   "name": "python",
   "nbconvert_exporter": "python",
   "pygments_lexer": "ipython3",
   "version": "3.9.6"
  }
 },
 "nbformat": 4,
 "nbformat_minor": 5
}
